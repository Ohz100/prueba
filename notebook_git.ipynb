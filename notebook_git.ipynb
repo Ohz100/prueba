{
 "cells": [
  {
   "cell_type": "code",
   "execution_count": null,
   "id": "4c4576bb-5d59-4ed9-b34b-df9302d0216c",
   "metadata": {},
   "outputs": [],
   "source": [
    "import numpy as np"
   ]
  },
  {
   "cell_type": "code",
   "execution_count": null,
   "id": "7e96cdcb-4f43-4a5f-9ab4-156b2707cea5",
   "metadata": {},
   "outputs": [],
   "source": [
    "1 + 1"
   ]
  },
  {
   "cell_type": "code",
   "execution_count": null,
   "id": "a8576151-352f-4524-b392-c1d912bf65f7",
   "metadata": {},
   "outputs": [],
   "source": [
    "x=np.array([1, 5, 3, 6])\n",
    "x"
   ]
  },
  {
   "cell_type": "code",
   "execution_count": null,
   "id": "f9a9ecce-a8a2-413b-9a2c-b29c16926253",
   "metadata": {},
   "outputs": [],
   "source": [
    "x**2"
   ]
  },
  {
   "cell_type": "code",
   "execution_count": null,
   "id": "b0a3f2c9-ef10-447c-a603-83ba5bf35c04",
   "metadata": {},
   "outputs": [],
   "source": [
    "-2*x"
   ]
  },
  {
   "cell_type": "markdown",
   "id": "8d897e87-4c5d-4526-ac7c-72eed6fa39dd",
   "metadata": {
    "tags": []
   },
   "source": [
    "# Nivel 1\n",
    "\n",
    "lorem ipsum\n",
    "\n",
    "$$ c=\\frac{a}{b} $$\n",
    "\n",
    "## Nivel 2\n",
    "\n",
    "lorem ipsum"
   ]
  },
  {
   "cell_type": "code",
   "execution_count": null,
   "id": "c358c36d-1ff8-4600-b21d-3b1343342eb7",
   "metadata": {},
   "outputs": [],
   "source": []
  }
 ],
 "metadata": {
  "kernelspec": {
   "display_name": "Python 3 (ipykernel)",
   "language": "python",
   "name": "python3"
  },
  "language_info": {
   "codemirror_mode": {
    "name": "ipython",
    "version": 3
   },
   "file_extension": ".py",
   "mimetype": "text/x-python",
   "name": "python",
   "nbconvert_exporter": "python",
   "pygments_lexer": "ipython3",
   "version": "3.9.13"
  }
 },
 "nbformat": 4,
 "nbformat_minor": 5
}
